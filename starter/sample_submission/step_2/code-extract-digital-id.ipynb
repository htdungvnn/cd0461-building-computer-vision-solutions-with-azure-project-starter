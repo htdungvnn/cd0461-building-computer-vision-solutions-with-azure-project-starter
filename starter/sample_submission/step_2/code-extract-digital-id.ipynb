{
 "cells": [
  {
   "cell_type": "markdown",
   "metadata": {},
   "source": [
    "### Please install the required Python modules/SDKs"
   ]
  },
  {
   "cell_type": "code",
   "execution_count": 1,
   "metadata": {},
   "outputs": [
    {
     "name": "stdout",
     "output_type": "stream",
     "text": [
      "zsh:1: command not found: activate\n"
     ]
    }
   ],
   "source": [
    "! activate ai-azure-c1\n",
    "\n",
    "import sys\n",
    "\n",
    "sys.path.append(\"/opt/conda/envs/ai-azure-c1/lib/python3.8/site-packages\")"
   ]
  },
  {
   "cell_type": "markdown",
   "metadata": {},
   "source": [
    "## Importing Azure Form Recognizer python modules"
   ]
  },
  {
   "cell_type": "code",
   "execution_count": 2,
   "metadata": {},
   "outputs": [
    {
     "name": "stderr",
     "output_type": "stream",
     "text": [
      "/Users/hoangtiendung/Library/Python/3.9/lib/python/site-packages/urllib3/__init__.py:35: NotOpenSSLWarning: urllib3 v2 only supports OpenSSL 1.1.1+, currently the 'ssl' module is compiled with 'LibreSSL 2.8.3'. See: https://github.com/urllib3/urllib3/issues/3020\n",
      "  warnings.warn(\n"
     ]
    }
   ],
   "source": [
    "from azure.core.credentials import AzureKeyCredential\n",
    "from azure.ai.formrecognizer import FormRecognizerClient"
   ]
  },
  {
   "cell_type": "code",
   "execution_count": 9,
   "metadata": {},
   "outputs": [],
   "source": [
    "AZURE_FORM_RECOGNIZER_ENDPOINT = \"https://dung-document-inteligent.cognitiveservices.azure.com/\"\n",
    "AZURE_FORM_RECOGNIZER_KEY = \"92h512KPZG7fpKqwpqQylvl177i2LQjaOR0UjNnaTPOw8TknHU97JQQJ99AJACYeBjFXJ3w3AAALACOGlUP1\""
   ]
  },
  {
   "cell_type": "code",
   "execution_count": 10,
   "metadata": {},
   "outputs": [],
   "source": [
    "endpoint = AZURE_FORM_RECOGNIZER_ENDPOINT\n",
    "key = AZURE_FORM_RECOGNIZER_KEY"
   ]
  },
  {
   "cell_type": "code",
   "execution_count": 11,
   "metadata": {},
   "outputs": [],
   "source": [
    "form_recognizer_client = FormRecognizerClient(endpoint=endpoint, credential=AzureKeyCredential(key))"
   ]
  },
  {
   "cell_type": "markdown",
   "metadata": {},
   "source": [
    "### Source Document"
   ]
  },
  {
   "cell_type": "code",
   "execution_count": 12,
   "metadata": {},
   "outputs": [],
   "source": [
    "content_url = \"https://github.com/htdungvnn/cd0461-building-computer-vision-solutions-with-azure-project-starter/blob/master/starter/sample_submission/material_preparation_step/digital_id_template/ca-dl-radha-s-kumar.png?raw=true\""
   ]
  },
  {
   "cell_type": "code",
   "execution_count": 13,
   "metadata": {},
   "outputs": [],
   "source": [
    "id_content_from_url = form_recognizer_client.begin_recognize_identity_documents_from_url(content_url)"
   ]
  },
  {
   "cell_type": "markdown",
   "metadata": {},
   "source": [
    "### Use the following if your source document is located the local disk"
   ]
  },
  {
   "cell_type": "code",
   "execution_count": 15,
   "metadata": {},
   "outputs": [],
   "source": [
    "collected_id_cards = id_content_from_url.result()"
   ]
  },
  {
   "cell_type": "code",
   "execution_count": 16,
   "metadata": {},
   "outputs": [
    {
     "data": {
      "text/plain": [
       "[RecognizedForm(form_type=prebuilt:idDocument:driverLicense, fields={'CountryRegion': FormField(value_type=countryRegion, label_data=None, value_data=None, name=CountryRegion, value='USA', confidence=0.99), 'DateOfBirth': FormField(value_type=date, label_data=None, value_data=FieldData(page_number=1, text=03/05/1994, bounding_box=[Point(x=213.0, y=183.0), Point(x=285.0, y=182.0), Point(x=285.0, y=196.0), Point(x=214.0, y=196.0)], field_elements=None), name=DateOfBirth, value=datetime.date(1994, 3, 5), confidence=0.995), 'DateOfExpiration': FormField(value_type=date, label_data=None, value_data=FieldData(page_number=1, text=02/20/2027, bounding_box=[Point(x=214.0, y=94.0), Point(x=285.0, y=94.0), Point(x=285.0, y=108.0), Point(x=214.0, y=107.0)], field_elements=None), name=DateOfExpiration, value=datetime.date(2027, 2, 20), confidence=0.99), 'DocumentNumber': FormField(value_type=string, label_data=None, value_data=FieldData(page_number=1, text=D5567470, bounding_box=[Point(x=205.0, y=69.0), Point(x=270.0, y=69]"
      ]
     },
     "execution_count": 16,
     "metadata": {},
     "output_type": "execute_result"
    }
   ],
   "source": [
    "collected_id_cards"
   ]
  },
  {
   "cell_type": "code",
   "execution_count": 17,
   "metadata": {},
   "outputs": [
    {
     "data": {
      "text/plain": [
       "azure.ai.formrecognizer._models.RecognizedForm"
      ]
     },
     "execution_count": 17,
     "metadata": {},
     "output_type": "execute_result"
    }
   ],
   "source": [
    "type(collected_id_cards[0])"
   ]
  },
  {
   "cell_type": "markdown",
   "metadata": {},
   "source": [
    "## Processing the results"
   ]
  },
  {
   "cell_type": "code",
   "execution_count": 18,
   "metadata": {},
   "outputs": [],
   "source": [
    "def get_id_card_details(identity_card):\n",
    "    first_name = identity_card.fields.get(\"FirstName\")\n",
    "    if first_name:\n",
    "        print(\"First Name: {} has confidence: {}\".format(first_name.value, first_name.confidence))\n",
    "    last_name = identity_card.fields.get(\"LastName\")\n",
    "    if last_name:\n",
    "        print(\"Last Name: {} has confidence: {}\".format(last_name.value, last_name.confidence))\n",
    "    document_number = identity_card.fields.get(\"DocumentNumber\")\n",
    "    if document_number:\n",
    "        print(\"Document Number: {} has confidence: {}\".format(document_number.value, document_number.confidence))\n",
    "    dob = identity_card.fields.get(\"DateOfBirth\")\n",
    "    if dob:\n",
    "        print(\"Date of Birth: {} has confidence: {}\".format(dob.value, dob.confidence))\n",
    "    doe = identity_card.fields.get(\"DateOfExpiration\")\n",
    "    if doe:\n",
    "        print(\"Date of Expiration: {} has confidence: {}\".format(doe.value, doe.confidence))\n",
    "    sex = identity_card.fields.get(\"Sex\")\n",
    "    if sex:\n",
    "        print(\"Sex: {} has confidence: {}\".format(sex.value, sex.confidence))\n",
    "    address = identity_card.fields.get(\"Address\")\n",
    "    if address:\n",
    "        print(\"Address: {} has confidence: {}\".format(address.value, address.confidence))\n",
    "    country_region = identity_card.fields.get(\"CountryRegion\")\n",
    "    if country_region:\n",
    "        print(\"Country/Region: {} has confidence: {}\".format(country_region.value, country_region.confidence))\n",
    "    region = identity_card.fields.get(\"Region\")\n",
    "    if region:\n",
    "        print(\"Region: {} has confidence: {}\".format(region.value, region.confidence))"
   ]
  },
  {
   "cell_type": "code",
   "execution_count": 19,
   "metadata": {},
   "outputs": [
    {
     "name": "stdout",
     "output_type": "stream",
     "text": [
      "First Name: Radha has confidence: 0.821\n",
      "Last Name: SKumar has confidence: 0.906\n",
      "Document Number: D5567470 has confidence: 0.995\n",
      "Date of Birth: 1994-03-05 has confidence: 0.995\n",
      "Date of Expiration: 2027-02-20 has confidence: 0.99\n",
      "Sex: F has confidence: 0.984\n",
      "Country/Region: USA has confidence: 0.99\n",
      "Region: California has confidence: 0.99\n"
     ]
    }
   ],
   "source": [
    "get_id_card_details(collected_id_cards[0])"
   ]
  },
  {
   "cell_type": "code",
   "execution_count": 20,
   "metadata": {},
   "outputs": [
    {
     "name": "stdout",
     "output_type": "stream",
     "text": [
      "Displaying identity card details ....... # 1\n",
      "First Name: Radha has confidence: 0.821\n",
      "Last Name: SKumar has confidence: 0.906\n",
      "Document Number: D5567470 has confidence: 0.995\n",
      "Date of Birth: 1994-03-05 has confidence: 0.995\n",
      "Date of Expiration: 2027-02-20 has confidence: 0.99\n",
      "Sex: F has confidence: 0.984\n",
      "Country/Region: USA has confidence: 0.99\n",
      "Region: California has confidence: 0.99\n",
      "---------------- EOL -------------------------\n"
     ]
    }
   ],
   "source": [
    "for index_id, id_card in enumerate(collected_id_cards):\n",
    "    print(\"Displaying identity card details ....... # {}\".format(index_id+1))\n",
    "    get_id_card_details(id_card)\n",
    "    print(\"---------------- EOL -------------------------\")"
   ]
  },
  {
   "cell_type": "code",
   "execution_count": null,
   "metadata": {},
   "outputs": [],
   "source": []
  }
 ],
 "metadata": {
  "kernelspec": {
   "display_name": "Python 3",
   "language": "python",
   "name": "python3"
  },
  "language_info": {
   "codemirror_mode": {
    "name": "ipython",
    "version": 3
   },
   "file_extension": ".py",
   "mimetype": "text/x-python",
   "name": "python",
   "nbconvert_exporter": "python",
   "pygments_lexer": "ipython3",
   "version": "3.9.6"
  }
 },
 "nbformat": 4,
 "nbformat_minor": 4
}
